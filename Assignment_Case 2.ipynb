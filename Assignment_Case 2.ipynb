{
  "nbformat": 4,
  "nbformat_minor": 0,
  "metadata": {
    "colab": {
      "provenance": [],
      "include_colab_link": true
    },
    "kernelspec": {
      "name": "python3",
      "display_name": "Python 3"
    },
    "language_info": {
      "name": "python"
    }
  },
  "cells": [
    {
      "cell_type": "markdown",
      "metadata": {
        "id": "view-in-github",
        "colab_type": "text"
      },
      "source": [
        "<a href=\"https://colab.research.google.com/github/tiutiutiu666/SC_Team-Assigment-Chapter-2-Machine-Learning-and-Deep-Learning/blob/main/Assignment_Case%202.ipynb\" target=\"_parent\"><img src=\"https://colab.research.google.com/assets/colab-badge.svg\" alt=\"Open In Colab\"/></a>"
      ]
    },
    {
      "cell_type": "markdown",
      "source": [
        "Paper Money: <br>\n",
        "1. Rp 100,000    \n",
        "2. Rp 50,000   \n",
        "3. Rp 20,000   \n",
        "4. Rp 10,000   \n",
        "5. Rp 5,000   \n",
        "6. Rp 2,000\n",
        "<br>\n",
        "<br>\n",
        "Coins: <br>\n",
        "1. Rp 1,000  \n",
        "2. Rp 500  \n",
        "3. Rp 200\n",
        "4. Rp 100  \n",
        "*To make it easier, we assume that all Rp. 1000 denominations are coins.\n",
        "\n",
        "There are circumstances where the bank must liquidate all customer savings in the form of money, if the customer requests it.\n",
        "And imagine this is happening right now in front of you, help the bank to calculate how many denominations of money are needed.\n",
        "\n",
        "Here is the rule:\n",
        "\n",
        "1. Bank must prioritize the largest denominations first to be issued.\n",
        "2. If there is a balance that cannot be cashed, the bank must inform it.\n",
        "3. Bank must calculate how many number of Paper Money needed and Coins needed.\n",
        "4. Banks can only disburse a maximum amount of 1 billion Rupiah\n",
        "\n",
        "\n",
        "\n",
        "Make a python code that receives an integer number of customer savings from 0 - 1 Billions.\n"
      ],
      "metadata": {
        "id": "v4yL2-lQ9B_E"
      }
    },
    {
      "cell_type": "code",
      "execution_count": null,
      "metadata": {
        "colab": {
          "base_uri": "https://localhost:8080/"
        },
        "id": "BadZYYvyin7Y",
        "outputId": "ce1c93d6-33e5-4b8a-b7b7-10c18211a18d"
      },
      "outputs": [
        {
          "output_type": "stream",
          "name": "stdout",
          "text": [
            "Enter an integer: 999999999\n",
            "You entered: 999999999\n"
          ]
        }
      ],
      "source": [
        "#Create command to get input from user, the input should be integer\n",
        "\n",
        "num = int(input(\"Enter an integer: \"))\n",
        "print(\"You entered:\", num)"
      ]
    },
    {
      "cell_type": "code",
      "source": [
        "# inisialisasi daftar pecahan uang kertas dan uang koin\n",
        "paper_money = [100000, 50000, 20000, 10000, 5000, 2000]\n",
        "coins = [1000, 500, 200, 100]\n",
        "\n",
        "# Inisialisasi variabel penghitung\n",
        "paper_count = 0\n",
        "coin_count = 0\n",
        "\n",
        "# Fungsi untuk menghitung jumlah pecahan uang\n",
        "def calculate_currency(denominations, amount):\n",
        "    counts = []\n",
        "    for denom in denominations:\n",
        "        count = amount // denom\n",
        "        counts.append(count)\n",
        "        amount %= denom\n",
        "    return counts, amount\n",
        "\n",
        "# Menghitung jumlah uang kertas\n",
        "paper_counts, remaining_amount = calculate_currency(paper_money, num)\n",
        "# Menghitung jumlah koin\n",
        "coin_counts, remaining_amount = calculate_currency(coins, remaining_amount)\n",
        "\n",
        "# Menampilkan jumlah uang kertas\n",
        "print('\\nPaper Money:')\n",
        "for i, denom in enumerate(paper_money):\n",
        "    print(f'Amount of currency Rp {denom:,}: {paper_counts[i]}')\n",
        "    paper_count += paper_counts[i]\n",
        "\n",
        "# Menampilkan jumlah koin\n",
        "print('\\nCoins:')\n",
        "for i, denom in enumerate(coins):\n",
        "    print(f'Amount of currency Rp {denom:,}: {coin_counts[i]}')\n",
        "    coin_count += coin_counts[i]\n",
        "\n",
        "# Menampilkan total uang kertas dan koin\n",
        "print('\\nTotal Paper Money:', paper_count)\n",
        "print('Total Coins:', coin_count)\n",
        "\n",
        "# Menampilkan jumlah yang tidak bisa dicairkan\n",
        "print('\\nCannot be cashed out:', remaining_amount)"
      ],
      "metadata": {
        "colab": {
          "base_uri": "https://localhost:8080/"
        },
        "id": "r-auwjYfgmcM",
        "outputId": "ec0c8e03-12ba-456b-cb1f-9275939a4f88"
      },
      "execution_count": null,
      "outputs": [
        {
          "output_type": "stream",
          "name": "stdout",
          "text": [
            "\n",
            "Paper Money:\n",
            "Amount of currency Rp 100,000: 9999\n",
            "Amount of currency Rp 50,000: 1\n",
            "Amount of currency Rp 20,000: 2\n",
            "Amount of currency Rp 10,000: 0\n",
            "Amount of currency Rp 5,000: 1\n",
            "Amount of currency Rp 2,000: 2\n",
            "\n",
            "Coins:\n",
            "Amount of currency Rp 1,000: 0\n",
            "Amount of currency Rp 500: 1\n",
            "Amount of currency Rp 200: 2\n",
            "Amount of currency Rp 100: 0\n",
            "\n",
            "Total Paper Money: 10005\n",
            "Total Coins: 3\n",
            "\n",
            "Cannot be cashed out: 99\n"
          ]
        }
      ]
    },
    {
      "cell_type": "code",
      "source": [
        "test"
      ],
      "metadata": {
        "id": "lo1hmXMiDoO1"
      },
      "execution_count": null,
      "outputs": []
    }
  ]
}